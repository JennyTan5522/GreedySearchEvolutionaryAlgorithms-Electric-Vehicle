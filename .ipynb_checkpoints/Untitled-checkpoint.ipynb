{
 "cells": [
  {
   "cell_type": "code",
   "execution_count": 8,
   "id": "915519e9",
   "metadata": {},
   "outputs": [],
   "source": [
    "import numpy as np\n",
    "from scipy.spatial import distance\n",
    "from scipy import spatial\n",
    "import random "
   ]
  },
  {
   "cell_type": "code",
   "execution_count": 2,
   "id": "ff8d361d",
   "metadata": {},
   "outputs": [],
   "source": [
    "'''Read the problem instance and generate the initial object vector'''\n",
    "with open('evrp-benchmark-set/E-n22-k4.evrp','r') as f:\n",
    "    data=f.read().splitlines()\n",
    "        \n",
    "NODE=[]\n",
    "for idx,line in enumerate(data):\n",
    "    record=line.split(':')\n",
    "    record[0]=record[0].strip()\n",
    "    if (record[0]=='OPTIMAL_VALUE'):\n",
    "        OPTIMUM=record[1]\n",
    "\n",
    "    if (record[0]=='VEHICLES'):\n",
    "        MIN_VEHICLES=record[1]\n",
    "\n",
    "    if (record[0]=='DIMENSION'):\n",
    "        PROBLEM_SIZE=record[1]\n",
    "\n",
    "    if (record[0]=='STATIONS'):\n",
    "        NUM_OF_STATIONS=record[1]\n",
    "\n",
    "    if (record[0]=='CAPACITY'):\n",
    "        MAX_CAPACITY=record[1]\n",
    "\n",
    "    if (record[0]=='ENERGY_CAPACITY'):\n",
    "        BATTERY_CAPACITY=record[1]\n",
    "\n",
    "    if (record[0]=='ENERGY_CONSUMPTION'):\n",
    "        ENERGY_CONSUMPTION=record[1]\n",
    "\n",
    "    if (record[0]=='NODE_COORD_SECTION'):\n",
    "        NUM_OF_CUSTOMERS=int(PROBLEM_SIZE)-1\n",
    "        ACTUAL_PROBLEM_SIZE=int(PROBLEM_SIZE)+int(NUM_OF_STATIONS)\n",
    "        idx+=1\n",
    "        for i in range(ACTUAL_PROBLEM_SIZE):\n",
    "            node_data=data[idx+i]\n",
    "            node_data=node_data.split(' ')\n",
    "            #Save node as tuple (index,x,y)\n",
    "            NODE.append((int(node_data[0]),int(node_data[1]),int(node_data[2])))"
   ]
  },
  {
   "cell_type": "code",
   "execution_count": 3,
   "id": "f2dd812c",
   "metadata": {},
   "outputs": [],
   "source": [
    "distanceMatrix=np.zeros((len(NODE),len(NODE)))"
   ]
  },
  {
   "cell_type": "code",
   "execution_count": 4,
   "id": "79a74cc5",
   "metadata": {},
   "outputs": [
    {
     "data": {
      "text/plain": [
       "39.05124837953327"
      ]
     },
     "execution_count": 4,
     "metadata": {},
     "output_type": "execute_result"
    }
   ],
   "source": [
    "p1=(10,20)\n",
    "p2=(49,22)\n",
    "distance.euclidean(p1,p2)"
   ]
  },
  {
   "cell_type": "code",
   "execution_count": 5,
   "id": "03862c58",
   "metadata": {},
   "outputs": [],
   "source": [
    "for i in range(ACTUAL_PROBLEM_SIZE):\n",
    "    x1=(int(NODE[i][1]),NODE[i][2])\n",
    "    for j in range(ACTUAL_PROBLEM_SIZE):\n",
    "        x2=(NODE[j][1],NODE[j][2])\n",
    "        distanceMatrix[i][j]=distance.euclidean(x1,x2)"
   ]
  },
  {
   "cell_type": "code",
   "execution_count": 6,
   "id": "0abdec64",
   "metadata": {},
   "outputs": [],
   "source": [
    "import csv\n",
    "with open('distanceMatrix.csv','w',newline='') as f:\n",
    "    writer=csv.writer(f)\n",
    "    \n",
    "    for i in range(len(distanceMatrix)):\n",
    "        writer.writerow(distanceMatrix[i].tolist())"
   ]
  },
  {
   "cell_type": "code",
   "execution_count": 9,
   "id": "626f4df6",
   "metadata": {},
   "outputs": [
    {
     "data": {
      "text/plain": [
       "array([[1.41421356, 3.        , 4.24264069],\n",
       "       [0.        , 2.23606798, 4.47213595],\n",
       "       [2.23606798, 3.16227766, 3.60555128]])"
      ]
     },
     "execution_count": 9,
     "metadata": {},
     "output_type": "execute_result"
    }
   ],
   "source": [
    "x_mat = np.array([[2,3],[1,2],[3,3]])\n",
    "y_mat = np.array([[1,2],[2,0],[5,0]])\n",
    "#Calculate distance matrix\n",
    "d_matrix=spatial.distance_matrix(x_mat,y_mat)\n",
    "d_matrix"
   ]
  },
  {
   "cell_type": "markdown",
   "id": "8414283d",
   "metadata": {},
   "source": [
    "https://towardsdatascience.com/advanced-k-means-controlling-groups-sizes-and-selecting-features-a998df7e6745"
   ]
  },
  {
   "cell_type": "code",
   "execution_count": null,
   "id": "7f81b49d",
   "metadata": {},
   "outputs": [],
   "source": [
    "#Randomly select a customer as a seed point a cluster (Start from 2 because 1 is depot), from customer 2 to customer 22\n",
    "seedPoint=random.randint(2,NUM_OF_CUSTOMERS)\n",
    "#Adding the nearest customers into that cluster until reaching max capacity w/o exceeding EV's maximal carrying capacity Pmax.\n",
    "maxCapacity=0\n",
    "while(maxCapacity<6000):\n",
    "    "
   ]
  },
  {
   "cell_type": "code",
   "execution_count": null,
   "id": "668b52f0",
   "metadata": {},
   "outputs": [],
   "source": [
    "NUM_OF_CUSTOMERS+1"
   ]
  },
  {
   "cell_type": "code",
   "execution_count": 10,
   "id": "df6f586d",
   "metadata": {},
   "outputs": [
    {
     "data": {
      "text/plain": [
       "5"
      ]
     },
     "execution_count": 10,
     "metadata": {},
     "output_type": "execute_result"
    }
   ],
   "source": [
    "seedPoint=random.randint(2,NUM_OF_CUSTOMERS+1)\n",
    "seedPoint"
   ]
  },
  {
   "cell_type": "code",
   "execution_count": 11,
   "id": "654e6857",
   "metadata": {},
   "outputs": [
    {
     "data": {
      "text/plain": [
       "(5, 128, 252)"
      ]
     },
     "execution_count": 11,
     "metadata": {},
     "output_type": "execute_result"
    }
   ],
   "source": [
    "NODE[seedPoint-1]"
   ]
  },
  {
   "cell_type": "code",
   "execution_count": 12,
   "id": "cf795a67",
   "metadata": {},
   "outputs": [
    {
     "data": {
      "text/plain": [
       "array([36.7151195 , 20.80865205, 14.56021978, 33.73425559, 35.35533906,\n",
       "        0.        , 17.02938637,  5.38516481, 22.47220505, 11.        ,\n",
       "       21.21320344, 38.48376281, 30.8058436 , 47.38143096, 42.54409477,\n",
       "       39.01281841, 46.5295605 , 56.32051136, 54.00925847, 67.23094526,\n",
       "       62.51399843, 69.28924881, 59.93329626, 42.80186912, 29.06888371,\n",
       "       26.92582404, 54.58937626, 34.92849839, 15.26433752, 10.63014581])"
      ]
     },
     "execution_count": 12,
     "metadata": {},
     "output_type": "execute_result"
    }
   ],
   "source": [
    "distanceMatrix[5]"
   ]
  },
  {
   "cell_type": "code",
   "execution_count": 14,
   "id": "d597a787",
   "metadata": {},
   "outputs": [
    {
     "data": {
      "text/plain": [
       "array([ 5,  7, 29,  9,  2, 28,  6,  1, 10,  8, 25, 24, 12,  3, 27,  4,  0,\n",
       "       11, 15, 14, 23, 16, 13, 18, 26, 17, 22, 20, 19, 21], dtype=int64)"
      ]
     },
     "execution_count": 14,
     "metadata": {},
     "output_type": "execute_result"
    }
   ],
   "source": [
    "nearestPoint=np.argsort(distanceMatrix[5])\n",
    "nearestPoint"
   ]
  },
  {
   "cell_type": "code",
   "execution_count": 15,
   "id": "69e57103",
   "metadata": {},
   "outputs": [
    {
     "ename": "TypeError",
     "evalue": "'int' object is not iterable",
     "output_type": "error",
     "traceback": [
      "\u001b[1;31m---------------------------------------------------------------------------\u001b[0m",
      "\u001b[1;31mTypeError\u001b[0m                                 Traceback (most recent call last)",
      "Input \u001b[1;32mIn [15]\u001b[0m, in \u001b[0;36m<cell line: 1>\u001b[1;34m()\u001b[0m\n\u001b[1;32m----> 1\u001b[0m \u001b[38;5;28;01mfor\u001b[39;00m r \u001b[38;5;129;01min\u001b[39;00m \u001b[38;5;28mlen\u001b[39m(nearestPoint):\n\u001b[0;32m      2\u001b[0m     \u001b[38;5;28mprint\u001b[39m(distanceMatrix[\u001b[38;5;241m5\u001b[39m][r])\n",
      "\u001b[1;31mTypeError\u001b[0m: 'int' object is not iterable"
     ]
    }
   ],
   "source": [
    "for r in len(nearestPoint):\n",
    "    print(distanceMatrix[5][r])"
   ]
  },
  {
   "cell_type": "code",
   "execution_count": null,
   "id": "3c415875",
   "metadata": {},
   "outputs": [],
   "source": [
    "for i in range(len(nearestPoint)):\n",
    "    print(i)"
   ]
  },
  {
   "cell_type": "code",
   "execution_count": null,
   "id": "75b839a6",
   "metadata": {},
   "outputs": [],
   "source": [
    "NODE"
   ]
  },
  {
   "cell_type": "code",
   "execution_count": null,
   "id": "bab20b95",
   "metadata": {},
   "outputs": [],
   "source": [
    "import re"
   ]
  },
  {
   "cell_type": "code",
   "execution_count": null,
   "id": "9fbec6c1",
   "metadata": {},
   "outputs": [],
   "source": [
    "name='Name: Mavrovouniotis Menelaou Instances Test: 1'"
   ]
  },
  {
   "cell_type": "code",
   "execution_count": null,
   "id": "a2884cf9",
   "metadata": {},
   "outputs": [],
   "source": [
    "s=re.search(r'(\\w+):([\\s\\w]+):([\\s\\w]+)',name)\n",
    "s"
   ]
  },
  {
   "cell_type": "code",
   "execution_count": null,
   "id": "0c0f2ba0",
   "metadata": {},
   "outputs": [],
   "source": [
    "PROBLEM_INSTANCE="
   ]
  },
  {
   "cell_type": "code",
   "execution_count": null,
   "id": "1152d879",
   "metadata": {},
   "outputs": [],
   "source": [
    "s.group(2).strip()"
   ]
  },
  {
   "cell_type": "code",
   "execution_count": null,
   "id": "ba0d71a5",
   "metadata": {},
   "outputs": [],
   "source": [
    "phoneNumRegex = re.compile(r'(\\d\\d\\d)-(\\d\\d\\d)-(\\d\\d\\d\\d)')\n",
    "mo = phoneNumRegex.search('My number is 415-555-4242.')\n",
    "print('Phone number found: ' + mo.group(3))"
   ]
  },
  {
   "cell_type": "code",
   "execution_count": null,
   "id": "c25135d3",
   "metadata": {},
   "outputs": [],
   "source": []
  }
 ],
 "metadata": {
  "kernelspec": {
   "display_name": "Python 3 (ipykernel)",
   "language": "python",
   "name": "python3"
  },
  "language_info": {
   "codemirror_mode": {
    "name": "ipython",
    "version": 3
   },
   "file_extension": ".py",
   "mimetype": "text/x-python",
   "name": "python",
   "nbconvert_exporter": "python",
   "pygments_lexer": "ipython3",
   "version": "3.9.12"
  }
 },
 "nbformat": 4,
 "nbformat_minor": 5
}
